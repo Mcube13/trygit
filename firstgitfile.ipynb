{
 "cells": [
  {
   "cell_type": "code",
   "execution_count": 2,
   "metadata": {},
   "outputs": [
    {
     "name": "stdout",
     "output_type": "stream",
     "text": [
      "are you hungryYes\n",
      "making dinner.\n"
     ]
    }
   ],
   "source": [
    "hungry=input(\"are you hungry\")\n",
    "if(hungry=='Yes'):\n",
    "    print(\"making dinner.\")\n",
    "else:\n",
    "    print(\"continue your work.\")"
   ]
  },
  {
   "cell_type": "code",
   "execution_count": 1,
   "metadata": {},
   "outputs": [
    {
     "name": "stdout",
     "output_type": "stream",
     "text": [
      "This is the first file i am creating for github\n"
     ]
    }
   ],
   "source": [
    "print(\"This is the first file i am creating for github\")\n"
   ]
  }
 ],
 "metadata": {
  "kernelspec": {
   "display_name": "Python 3",
   "language": "python",
   "name": "python3"
  },
  "language_info": {
   "codemirror_mode": {
    "name": "ipython",
    "version": 3
   },
   "file_extension": ".py",
   "mimetype": "text/x-python",
   "name": "python",
   "nbconvert_exporter": "python",
   "pygments_lexer": "ipython3",
   "version": "3.7.4"
  }
 },
 "nbformat": 4,
 "nbformat_minor": 2
}
